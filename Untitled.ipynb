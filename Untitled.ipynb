{
 "cells": [
  {
   "cell_type": "code",
   "execution_count": 1,
   "metadata": {},
   "outputs": [
    {
     "ename": "SyntaxError",
     "evalue": "invalid syntax (<ipython-input-1-8084a370b332>, line 22)",
     "output_type": "error",
     "traceback": [
      "\u001b[0;36m  File \u001b[0;32m\"<ipython-input-1-8084a370b332>\"\u001b[0;36m, line \u001b[0;32m22\u001b[0m\n\u001b[0;31m    plt.plot(,)\u001b[0m\n\u001b[0m             ^\u001b[0m\n\u001b[0;31mSyntaxError\u001b[0m\u001b[0;31m:\u001b[0m invalid syntax\n"
     ]
    }
   ],
   "source": [
    "import numpy as np\n",
    "import matplotlib.pyplot as plt\n",
    "from scipy.optimize import fsolve\n",
    "\n",
    "# Define the expression whose roots we want to find\n",
    "\n",
    "X = 1.0\n",
    "Y = 1.0\n",
    "Z = 1.0\n",
    "W = 1.0\n",
    "T = 1.0\n",
    "\n",
    "\n",
    "#VALUES\n",
    "\n",
    "\n",
    "\n",
    "func = (m_dot_pa*C_pa*(Tp_n1 - Tp_n)) - (hp*(x_n1-x_n)*b*(Tp-Tw)) = 0\n",
    "# Plot it\n",
    "\n",
    "func = np.linspace(-0.5, 1.5, 100)\n",
    "\n",
    "plt.plot(,)\n",
    "plt.xlabel(\"\")\n",
    "plt.ylabel(\"expression value\")\n",
    "plt.grid()\n",
    "plt.show()\n",
    "\n",
    "# Use the numerical solver to find the roots\n",
    "\n",
    "AAA_initial_guess = 0.5\n",
    "AAA_solution = fsolve(func, AAA_initial_guess)\n",
    "\n",
    "print \"The solution is  = %f\" % AAA_solution\n",
    "print \"at which the value of the expression is %f\" % func(AAA_solution)\n",
    "\n",
    "\n",
    "\n",
    "func = (m_dot_wa*C_pa*(Twadry_n1 - Twadry_n)) - (hwadry*(x_n1-x_n)*b*(Twadry-Tw)) = 0\n",
    "\n",
    "\n",
    "func = (m_dot_wa*(omegawawet_n1 - omegawawet_n)) - (hmwawet*(x_n1-x_n)*b*(omegaswet-omegawawet)) = 0\n",
    "\n",
    "\n",
    "func = (m_dot_wa*C_pa*(Twawet_n1 - Twawet_n)) - (hwawet*(x_n1-x_n)*b*(Tw-Twawet)) - (hmwawet*(x_n1-x_n)*b*lhvap*(omegaswet-omegawawet)) = 0\n",
    "\n",
    "\n",
    "func = (m_dot_w*C_pw*(Tw_n1 - Tw_n)) + (m_dot_pa*C_pa*(Tp_n1 - Tp_n)) + (m_dot_wa*(enthwawet_n1-enthwawet_n)) = 0\n"
   ]
  },
  {
   "cell_type": "code",
   "execution_count": null,
   "metadata": {},
   "outputs": [],
   "source": []
  }
 ],
 "metadata": {
  "kernelspec": {
   "display_name": "Python 3",
   "language": "python",
   "name": "python3"
  },
  "language_info": {
   "codemirror_mode": {
    "name": "ipython",
    "version": 3
   },
   "file_extension": ".py",
   "mimetype": "text/x-python",
   "name": "python",
   "nbconvert_exporter": "python",
   "pygments_lexer": "ipython3",
   "version": "3.7.3"
  }
 },
 "nbformat": 4,
 "nbformat_minor": 2
}
